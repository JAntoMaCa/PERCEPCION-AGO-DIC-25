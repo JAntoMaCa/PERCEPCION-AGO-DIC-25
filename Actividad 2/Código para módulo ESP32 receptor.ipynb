{
  "nbformat": 4,
  "nbformat_minor": 0,
  "metadata": {
    "colab": {
      "provenance": []
    },
    "kernelspec": {
      "name": "python3",
      "display_name": "Python 3"
    },
    "language_info": {
      "name": "python"
    }
  },
  "cells": [
    {
      "cell_type": "markdown",
      "source": [
        "# **Código para módulo ESP32 receptor**"
      ],
      "metadata": {
        "id": "An93aAXDvbt0"
      }
    },
    {
      "cell_type": "code",
      "execution_count": null,
      "metadata": {
        "id": "24qpCJClvbDK"
      },
      "outputs": [],
      "source": [
        "import espnow\n",
        "from network import WLAN\n",
        "from machine import Pin\n",
        "import struct\n",
        "import time\n",
        "\n",
        "# ----------------------------\n",
        "# Configuración LED RGB (cátodo común)\n",
        "# ----------------------------\n",
        "LED_R = Pin(13, Pin.OUT)  # Rojo\n",
        "LED_G = Pin(12, Pin.OUT)  # Verde\n",
        "LED_B = Pin(14, Pin.OUT)  # Azul\n",
        "\n",
        "def set_color(r, g, b):\n",
        "    LED_R.value(r)\n",
        "    LED_G.value(g)\n",
        "    LED_B.value(b)\n",
        "\n",
        "def off():\n",
        "    set_color(1, 1, 1)\n",
        "\n",
        "# ----------------------------\n",
        "# MAC del transmisor\n",
        "# ----------------------------\n",
        "TRANSMITTER_MAC = b\"\\xcc\\xdb\\xa7\\x97\\xa9\\xac\"\n",
        "\n",
        "# ----------------------------\n",
        "# Inicializar WiFi en modo STA para ESP-NOW\n",
        "# ----------------------------\n",
        "wlan = WLAN()\n",
        "wlan.active(True)\n",
        "\n",
        "# ----------------------------\n",
        "# Inicializar ESP-NOW\n",
        "# ----------------------------\n",
        "e = espnow.ESPNow()\n",
        "e.active(True)\n",
        "\n",
        "try:\n",
        "    e.add_peer(TRANSMITTER_MAC)\n",
        "except:\n",
        "    pass\n",
        "\n",
        "print(\"Receptor listo, esperando datos...\")\n",
        "\n",
        "# ----------------------------\n",
        "# Variables para control de conexión\n",
        "# ----------------------------\n",
        "last_msg_time = time.ticks_ms()\n",
        "alert_start = None\n",
        "\n",
        "# ----------------------------\n",
        "# Función para mostrar EMG en LED\n",
        "# ----------------------------\n",
        "def show_emg_rgb(value):\n",
        "    if value < 2000:        # señal baja → azul\n",
        "        set_color(1, 1, 0)\n",
        "    else:                   # señal alta → verde\n",
        "        set_color(1, 0, 1)\n",
        "\n",
        "# ----------------------------\n",
        "# Bucle principal\n",
        "# ----------------------------\n",
        "while True:\n",
        "    host, msg = e.recv()\n",
        "\n",
        "    if msg:  # Se recibió un mensaje\n",
        "        last_msg_time = time.ticks_ms()\n",
        "        alert_start = None\n",
        "        emg_value = struct.unpack(\">H\", msg)[0]\n",
        "        print(\"Valor EMG:\", emg_value)\n",
        "        show_emg_rgb(emg_value)\n",
        "\n",
        "    else:\n",
        "        elapsed = time.ticks_diff(time.ticks_ms(), last_msg_time)\n",
        "\n",
        "        if elapsed > 60000:  # más de 60 seg sin señal → apagar\n",
        "            off()\n",
        "\n",
        "        elif elapsed > 2000:  # más de 2 seg sin señal → rojo intermitente\n",
        "            if alert_start is None:\n",
        "                alert_start = time.ticks_ms()\n",
        "            # parpadeo rojo\n",
        "            if (time.ticks_diff(time.ticks_ms(), alert_start) // 500) % 2 == 0:\n",
        "                set_color(0, 1, 1)\n",
        "            else:\n",
        "                off()\n",
        "\n",
        "    time.sleep_ms(50)"
      ]
    }
  ]
}